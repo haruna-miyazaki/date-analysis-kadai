{
  "nbformat": 4,
  "nbformat_minor": 0,
  "metadata": {
    "colab": {
      "provenance": []
    },
    "kernelspec": {
      "name": "python3",
      "display_name": "Python 3"
    },
    "language_info": {
      "name": "python"
    }
  },
  "cells": [
    {
      "cell_type": "code",
      "execution_count": 6,
      "metadata": {
        "colab": {
          "base_uri": "https://localhost:8080/"
        },
        "id": "wVhX8sXb-2Wf",
        "outputId": "69f805d7-1ceb-4fee-9d1a-cc02e8666c2a"
      },
      "outputs": [
        {
          "output_type": "stream",
          "name": "stdout",
          "text": [
            "[[ 4  5  6  7]\n",
            " [12 17 22 27]\n",
            " [20 29 38 47]]\n",
            "47\n"
          ]
        }
      ],
      "source": [
        "import numpy as np\n",
        "\n",
        "A = np.array([[0, 1],[2, 3],[4, 5]])\n",
        "B = np.array([[0, 1, 2, 3],[4, 5, 6, 7]])\n",
        "\n",
        "show_array = np.dot(A,B)\n",
        "print(show_array)\n",
        "\n",
        "max_value = np.max(show_array)\n",
        "print(max_value)"
      ]
    }
  ]
}